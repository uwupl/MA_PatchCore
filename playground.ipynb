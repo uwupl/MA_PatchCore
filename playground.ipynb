{
 "cells": [
  {
   "cell_type": "code",
   "execution_count": 40,
   "metadata": {},
   "outputs": [],
   "source": [
    "import numpy as np\n",
    "from backbone import Backbone\n",
    "import torch\n",
    "from torchinfo import summary"
   ]
  },
  {
   "cell_type": "code",
   "execution_count": 41,
   "metadata": {},
   "outputs": [
    {
     "data": {
      "text/plain": [
       "array([20. , 20.1, 20.2, 20.3, 20.4, 20.5, 20.6, 20.7, 20.8, 20.9, 21. ,\n",
       "       21.1, 21.2, 21.3, 21.4, 21.5, 21.6, 21.7, 21.8, 21.9, 22. , 22.1,\n",
       "       22.2, 22.3, 22.4, 22.5, 22.6, 22.7, 22.8, 22.9, 23. , 23.1, 23.2,\n",
       "       23.3, 23.4, 23.5, 23.6, 23.7, 23.8, 23.9, 24. , 24.1, 24.2, 24.3,\n",
       "       24.4, 24.5, 24.6, 24.7, 24.8, 24.9, 25. , 25.1, 25.2, 25.3, 25.4,\n",
       "       25.5, 25.6, 25.7, 25.8, 25.9, 26. , 26.1, 26.2, 26.3, 26.4, 26.5,\n",
       "       26.6, 26.7, 26.8, 26.9, 27. , 27.1, 27.2, 27.3, 27.4, 27.5, 27.6,\n",
       "       27.7, 27.8, 27.9, 28. , 28.1, 28.2, 28.3, 28.4, 28.5, 28.6, 28.7,\n",
       "       28.8, 28.9, 29. , 29.1, 29.2, 29.3, 29.4, 29.5, 29.6, 29.7, 29.8,\n",
       "       29.9])"
      ]
     },
     "execution_count": 41,
     "metadata": {},
     "output_type": "execute_result"
    }
   ],
   "source": [
    "np.arange(0, 10, 0.1) + 20"
   ]
  },
  {
   "cell_type": "code",
   "execution_count": 16,
   "metadata": {},
   "outputs": [],
   "source": [
    "model = Backbone(model_id='RN18', layers_needed=[1,2,3], layer_cut=True, prune_output_layer=(False, []))#, pooling_strategy='default', normalize=False)"
   ]
  },
  {
   "cell_type": "code",
   "execution_count": 19,
   "metadata": {},
   "outputs": [
    {
     "name": "stderr",
     "output_type": "stream",
     "text": [
      "/home/jo/micromamba/envs/cuda_torch/lib/python3.10/site-packages/torchinfo/torchinfo.py:477: UserWarning: TypedStorage is deprecated. It will be removed in the future and UntypedStorage will be the only storage class. This should only matter to you if you are using storages directly.  To access UntypedStorage directly, use tensor.untyped_storage() instead of tensor.storage()\n",
      "  action_fn=lambda data: sys.getsizeof(data.storage()),\n",
      "/home/jo/micromamba/envs/cuda_torch/lib/python3.10/site-packages/torch/storage.py:665: UserWarning: TypedStorage is deprecated. It will be removed in the future and UntypedStorage will be the only storage class. This should only matter to you if you are using storages directly.  To access UntypedStorage directly, use tensor.untyped_storage() instead of tensor.storage()\n",
      "  return super().__sizeof__() + self.nbytes()\n"
     ]
    },
    {
     "data": {
      "text/plain": [
       "===============================================================================================\n",
       "Layer (type:depth-idx)                        Output Shape              Param #\n",
       "===============================================================================================\n",
       "Backbone                                      [1, 64, 56, 56]           --\n",
       "├─Sequential: 1-1                             [1, 256, 14, 14]          (2,782,784)\n",
       "===============================================================================================\n",
       "Total params: 2,782,784\n",
       "Trainable params: 0\n",
       "Non-trainable params: 2,782,784\n",
       "Total mult-adds (G): 1.40\n",
       "===============================================================================================\n",
       "Input size (MB): 0.60\n",
       "Forward/backward pass size (MB): 37.73\n",
       "Params size (MB): 11.13\n",
       "Estimated Total Size (MB): 49.47\n",
       "==============================================================================================="
      ]
     },
     "execution_count": 19,
     "metadata": {},
     "output_type": "execute_result"
    }
   ],
   "source": [
    "summary(model, input_size=(1, 3, 224, 224), device='cpu', depth=1)#.total_params#, verbose=1)"
   ]
  },
  {
   "cell_type": "code",
   "execution_count": 26,
   "metadata": {},
   "outputs": [],
   "source": [
    "a = summary(model, input_size=(1, 3, 224, 224), device='cpu', depth=0)"
   ]
  },
  {
   "cell_type": "code",
   "execution_count": 36,
   "metadata": {},
   "outputs": [],
   "source": [
    "input_sum = a.total_input#_bytes\n",
    "output_sum = a.total_output_bytes\n",
    "params_sum = a.total_param_bytes"
   ]
  },
  {
   "cell_type": "code",
   "execution_count": 39,
   "metadata": {},
   "outputs": [
    {
     "data": {
      "text/plain": [
       "1.402524032"
      ]
     },
     "execution_count": 39,
     "metadata": {},
     "output_type": "execute_result"
    }
   ],
   "source": [
    "a.total_mult_adds/1e9"
   ]
  },
  {
   "cell_type": "code",
   "execution_count": 32,
   "metadata": {},
   "outputs": [
    {
     "data": {
      "text/plain": [
       "0.60216"
      ]
     },
     "execution_count": 32,
     "metadata": {},
     "output_type": "execute_result"
    }
   ],
   "source": [
    "input_sum/1e6"
   ]
  },
  {
   "cell_type": "code",
   "execution_count": 33,
   "metadata": {},
   "outputs": [
    {
     "data": {
      "text/plain": [
       "37.732352"
      ]
     },
     "execution_count": 33,
     "metadata": {},
     "output_type": "execute_result"
    }
   ],
   "source": [
    "output_sum/1e6"
   ]
  },
  {
   "cell_type": "code",
   "execution_count": 37,
   "metadata": {},
   "outputs": [
    {
     "data": {
      "text/plain": [
       "11.131136"
      ]
     },
     "execution_count": 37,
     "metadata": {},
     "output_type": "execute_result"
    }
   ],
   "source": [
    "params_sum/1e6"
   ]
  },
  {
   "cell_type": "code",
   "execution_count": 22,
   "metadata": {},
   "outputs": [
    {
     "data": {
      "text/plain": [
       "11131136"
      ]
     },
     "execution_count": 22,
     "metadata": {},
     "output_type": "execute_result"
    }
   ],
   "source": [
    "summary(model, input_size=(1, 3, 224, 224), device='cpu', depth=1).total_param_bytes#.to_megabytes()#.total_params#, verbose=1)"
   ]
  },
  {
   "cell_type": "code",
   "execution_count": 25,
   "metadata": {},
   "outputs": [
    {
     "name": "stderr",
     "output_type": "stream",
     "text": [
      "/home/jo/micromamba/envs/cuda_torch/lib/python3.10/site-packages/torchinfo/torchinfo.py:477: UserWarning: TypedStorage is deprecated. It will be removed in the future and UntypedStorage will be the only storage class. This should only matter to you if you are using storages directly.  To access UntypedStorage directly, use tensor.untyped_storage() instead of tensor.storage()\n",
      "  action_fn=lambda data: sys.getsizeof(data.storage()),\n",
      "/home/jo/micromamba/envs/cuda_torch/lib/python3.10/site-packages/torch/storage.py:665: UserWarning: TypedStorage is deprecated. It will be removed in the future and UntypedStorage will be the only storage class. This should only matter to you if you are using storages directly.  To access UntypedStorage directly, use tensor.untyped_storage() instead of tensor.storage()\n",
      "  return super().__sizeof__() + self.nbytes()\n"
     ]
    },
    {
     "data": {
      "text/plain": [
       "37732352"
      ]
     },
     "execution_count": 25,
     "metadata": {},
     "output_type": "execute_result"
    }
   ],
   "source": [
    "summary(model, input_size=(1, 3, 224, 224), device='cpu', depth=0).total_output_bytes#.to_megabytes()#.total_params#, verbose=1)"
   ]
  },
  {
   "cell_type": "code",
   "execution_count": 3,
   "metadata": {},
   "outputs": [
    {
     "name": "stdout",
     "output_type": "stream",
     "text": [
      "89.10000000000001\n"
     ]
    }
   ],
   "source": [
    "a = np.arange(100)\n",
    "b = np.percentile(a, 90)\n",
    "print(b)"
   ]
  },
  {
   "cell_type": "code",
   "execution_count": 14,
   "metadata": {},
   "outputs": [
    {
     "data": {
      "text/plain": [
       "(104, 20)"
      ]
     },
     "execution_count": 14,
     "metadata": {},
     "output_type": "execute_result"
    }
   ],
   "source": [
    "score_patches[np.sum(score_patches,axis=1) < 10].shape"
   ]
  },
  {
   "cell_type": "code",
   "execution_count": 13,
   "metadata": {},
   "outputs": [
    {
     "data": {
      "text/plain": [
       "array([ 9.61286545, 11.81536471, 12.70406211, 11.62851412,  8.59686292,\n",
       "        9.73168574,  8.7111851 , 10.02560326,  9.65409249,  9.43062701,\n",
       "        8.88573772, 11.96543161, 11.51414199, 10.87060777,  9.48062267,\n",
       "        9.74510236, 10.68197961,  9.21583678, 10.47231895, 10.64235375,\n",
       "       10.77394355, 12.92016229, 10.18550966,  9.21056583,  8.47785519,\n",
       "        8.60220327,  9.68700013,  8.84552054, 11.02193724, 11.31880394,\n",
       "        9.82482913, 13.97249929,  8.80367574,  7.6871715 , 10.11624674,\n",
       "       10.42834061, 10.22942772, 11.65625464, 11.17373253,  8.54542868,\n",
       "        9.37993224, 11.16423821, 11.01822132,  9.40343852,  8.97252785,\n",
       "       10.76533634, 10.71086444,  8.71350411,  9.00411061,  9.93616316,\n",
       "        9.43407578, 10.3945116 , 10.83382386, 10.03938532,  9.11170127,\n",
       "        9.85365366, 11.71946431, 11.7045678 , 11.80353006, 10.91795576,\n",
       "        9.53934501, 11.60190188, 12.83413709, 10.53890132, 10.98172806,\n",
       "       10.49448996, 10.2059363 ,  9.60013446, 11.16210122,  9.90428157,\n",
       "        9.55591856, 10.43065373, 10.74213155, 10.68972965, 10.73853405,\n",
       "       10.16424197, 11.92224537,  8.4111216 , 10.03726075, 11.19663946,\n",
       "        9.90787036,  8.88768231,  9.73607683, 10.87950654, 12.02590322,\n",
       "       11.63693461,  8.06453156,  9.6893914 , 10.33994914, 10.09007176,\n",
       "        9.81323949, 11.98059548,  9.97980072, 10.13402146,  9.5265316 ,\n",
       "        9.5498659 , 10.76302995, 11.63028061,  8.27857808,  8.97462356,\n",
       "       10.15046941,  8.33715726, 10.37015506,  9.82605183,  9.99979346,\n",
       "        9.44965304,  9.68156514,  9.47759728, 11.4269472 ,  9.81204048,\n",
       "       13.34750557, 11.37769177, 11.18138817, 12.04808408,  8.53353954,\n",
       "        8.57984653,  8.56388284,  7.60364332, 11.98795259, 11.89772546,\n",
       "        9.75722789,  9.37767311,  9.65078746, 11.02262215, 10.51643379,\n",
       "       11.28994427, 11.39587688, 11.02281161, 10.09597104, 10.96512546,\n",
       "        8.90155933, 10.18158595, 12.53185207, 10.89270357, 12.19998799,\n",
       "        8.2083117 , 10.68784618, 12.03453943, 11.07940757, 10.27966793,\n",
       "       10.8978003 ,  9.9208686 , 11.64035656,  9.19698574, 10.3260216 ,\n",
       "        9.19589291,  9.5814033 , 12.22715963, 10.90735268,  9.98404623,\n",
       "        9.10653734,  9.2713795 , 11.02705549, 10.01935857, 10.38559111,\n",
       "        8.5256948 , 11.27335877,  9.92046664,  8.28770676, 10.98725597,\n",
       "        9.77434835,  8.97211173, 10.81511097, 10.62382639, 10.37061874,\n",
       "        9.94343514, 12.35488064,  9.32601909,  9.75580671,  9.28537511,\n",
       "       11.10068141,  9.53122461,  7.92242004,  7.84237077, 10.75478365,\n",
       "        9.66433323, 10.12298817,  8.22874318, 10.83439831,  7.75537819,\n",
       "       10.5636108 ,  9.63225131,  9.29161318,  9.38883554, 10.72889353,\n",
       "       10.77069301,  8.05399867,  9.47397512,  9.05189163,  8.09911903,\n",
       "       10.48394194,  9.44457337, 11.1474629 , 11.65747164,  9.53982856,\n",
       "       10.45207598, 10.72901822, 10.37253938, 10.52755681,  7.46108926,\n",
       "       10.91582207, 10.46934122,  8.86484653,  9.99122878,  8.7280655 ,\n",
       "       10.54858709,  9.76608229, 10.1278911 , 11.46790455, 10.80063845,\n",
       "        8.15807207, 12.19693128,  9.4158775 ,  9.23797597, 14.11918976,\n",
       "       11.13264368,  9.39454202, 10.22612038,  8.14837495, 10.2739114 ,\n",
       "       11.14776622, 11.38820082,  7.95003587,  9.40027756,  8.94245276])"
      ]
     },
     "execution_count": 13,
     "metadata": {},
     "output_type": "execute_result"
    }
   ],
   "source": [
    "np.sum(score_patches,axis=1)"
   ]
  },
  {
   "cell_type": "code",
   "execution_count": null,
   "metadata": {},
   "outputs": [],
   "source": [
    "raw = np.load('3rd_layer_WideResNet.npy')\n",
    "# print(raw.shape)\n",
    "raw_shaped = raw.reshape(-1, raw.shape[1])"
   ]
  }
 ],
 "metadata": {
  "kernelspec": {
   "display_name": "cuda_torch",
   "language": "python",
   "name": "python3"
  },
  "language_info": {
   "codemirror_mode": {
    "name": "ipython",
    "version": 3
   },
   "file_extension": ".py",
   "mimetype": "text/x-python",
   "name": "python",
   "nbconvert_exporter": "python",
   "pygments_lexer": "ipython3",
   "version": "3.10.9"
  },
  "orig_nbformat": 4
 },
 "nbformat": 4,
 "nbformat_minor": 2
}
